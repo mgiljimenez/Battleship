{
 "cells": [
  {
   "cell_type": "code",
   "execution_count": 16,
   "metadata": {},
   "outputs": [],
   "source": [
    "from battleship_config import TAM_TABLERO, TAM_BARCOS, barco_icon, agua_icon, shoot_icon\n",
    "\n",
    "import numpy as np\n",
    "import pandas as pd\n",
    "import random"
   ]
  },
  {
   "cell_type": "code",
   "execution_count": null,
   "metadata": {},
   "outputs": [],
   "source": [
    "def generar_tablero(tablero_input):\n",
    "    '''\n",
    "    Esta función es la encargada de generar los tableros y de posicionar los barcos en ellos.\n",
    "    '''\n",
    "    # Diccionario que relaciona un número entero (que representa el tamaño de un barco) con un emoji correspondiente\n",
    "    barcos = []\n",
    "    for tam_barco in TAM_BARCOS:\n",
    "        colocado = False\n",
    "        while not colocado:\n",
    "            fila, col = np.random.randint(TAM_TABLERO), np.random.randint(TAM_TABLERO)\n",
    "            direccion = np.random.choice(['arriba', 'abajo', 'izquierda', 'derecha'])\n",
    "            if direccion == 'arriba':\n",
    "                posiciones = [(fila-i, col) for i in range(tam_barco)]\n",
    "            elif direccion == 'abajo':\n",
    "                posiciones = [(fila+i, col) for i in range(tam_barco)]\n",
    "            elif direccion == 'izquierda':\n",
    "                posiciones = [(fila, col-i) for i in range(tam_barco)]\n",
    "            else:\n",
    "                posiciones = [(fila, col+i) for i in range(tam_barco)]\n",
    "            if all(0<=fila<TAM_TABLERO and 0<=col<TAM_TABLERO and tablero_input[fila, col]==\" \" for fila, col in posiciones):\n",
    "                barco = {\"tam\": tam_barco, \"posiciones\": posiciones}\n",
    "                barcos.append(barco)\n",
    "                for fila, col in posiciones:\n",
    "                    tablero_input[fila, col] = barco_icon[tam_barco]\n",
    "                colocado = True\n",
    "    \n",
    "    return tablero_input\n",
    "\n",
    "tablero_del_jugador = generar_tablero(np.full((TAM_TABLERO, TAM_TABLERO), \" \"))\n",
    "tablero_de_maquina = generar_tablero(np.full((TAM_TABLERO, TAM_TABLERO), \" \"))\n",
    "tablero_interactivo=np.full((TAM_TABLERO, TAM_TABLERO), \" \")"
   ]
  },
  {
   "cell_type": "code",
   "execution_count": 203,
   "metadata": {},
   "outputs": [
    {
     "name": "stdout",
     "output_type": "stream",
     "text": [
      "[['🌊' '🌊' '🌊' '🌊' '🌊' '🌊' '💥' '💥' '💥' '💥']\n",
      " ['💥' '🌊' '🌊' '🌊' '🌊' '🌊' '💥' '🌊' '🌊' '🌊']\n",
      " ['💥' '🌊' '🌊' '🌊' '🌊' '🌊' '🌊' '🌊' '🌊' '🌊']\n",
      " ['🌊' '🌊' '🌊' '🌊' '🌊' '🌊' '🌊' '🌊' '🌊' '💥']\n",
      " ['🌊' '🌊' '🌊' '🌊' '🌊' '🌊' '🌊' '🌊' '💥' '💥']\n",
      " ['🛳' '🛳' '🛳' '🌊' '🌊' '🌊' '🌊' '🌊' '🌊' '💥']\n",
      " ['🌊' '🌊' '🌊' '🌊' '🌊' '🌊' '🌊' '🌊' '🌊' '💥']\n",
      " ['🌊' '🌊' '🌊' '🌊' '🌊' '💥' '🌊' '🛳' '🛳' '🛳']\n",
      " ['🌊' '🌊' '🌊' '🌊' '🌊' '🌊' '🌊' '💥' '🌊' '🌊']\n",
      " ['🌊' '🌊' '🌊' '🌊' '🌊' '🌊' '🌊' '🌊' '🌊' '🌊']]\n",
      " \n"
     ]
    },
    {
     "ename": "KeyboardInterrupt",
     "evalue": "",
     "output_type": "error",
     "traceback": [
      "\u001b[1;31m---------------------------------------------------------------------------\u001b[0m",
      "\u001b[1;31mKeyboardInterrupt\u001b[0m                         Traceback (most recent call last)",
      "\u001b[1;32m~\\AppData\\Local\\Temp\\ipykernel_9928\\2532532136.py\u001b[0m in \u001b[0;36m<module>\u001b[1;34m\u001b[0m\n\u001b[0;32m      8\u001b[0m     \u001b[1;31m#Creamos las filas y columnas en las que dispara aleatoriamente\u001b[0m\u001b[1;33m\u001b[0m\u001b[1;33m\u001b[0m\u001b[1;33m\u001b[0m\u001b[0m\n\u001b[0;32m      9\u001b[0m     \u001b[0mfila\u001b[0m\u001b[1;33m=\u001b[0m\u001b[0mrandom\u001b[0m\u001b[1;33m.\u001b[0m\u001b[0mrandint\u001b[0m\u001b[1;33m(\u001b[0m\u001b[1;36m0\u001b[0m\u001b[1;33m,\u001b[0m \u001b[1;36m9\u001b[0m\u001b[1;33m)\u001b[0m\u001b[1;33m\u001b[0m\u001b[1;33m\u001b[0m\u001b[0m\n\u001b[1;32m---> 10\u001b[1;33m     \u001b[0mcolumna\u001b[0m\u001b[1;33m=\u001b[0m\u001b[0mrandom\u001b[0m\u001b[1;33m.\u001b[0m\u001b[0mrandint\u001b[0m\u001b[1;33m(\u001b[0m\u001b[1;36m0\u001b[0m\u001b[1;33m,\u001b[0m \u001b[1;36m9\u001b[0m\u001b[1;33m)\u001b[0m\u001b[1;33m\u001b[0m\u001b[1;33m\u001b[0m\u001b[0m\n\u001b[0m\u001b[0;32m     11\u001b[0m     \u001b[0mcoordenada_disparo\u001b[0m\u001b[1;33m=\u001b[0m\u001b[0mtablero_del_jugador\u001b[0m\u001b[1;33m[\u001b[0m\u001b[0mfila\u001b[0m\u001b[1;33m]\u001b[0m\u001b[1;33m[\u001b[0m\u001b[0mcolumna\u001b[0m\u001b[1;33m]\u001b[0m\u001b[1;33m\u001b[0m\u001b[1;33m\u001b[0m\u001b[0m\n\u001b[0;32m     12\u001b[0m     \u001b[1;31m#Defino la variable \"terminar\": tiene como objeto que si cambia a True significa que ha derrivado todos los objetivos\u001b[0m\u001b[1;33m\u001b[0m\u001b[1;33m\u001b[0m\u001b[1;33m\u001b[0m\u001b[0m\n",
      "\u001b[1;32mc:\\Users\\mgilj\\AppData\\Local\\Programs\\Python\\Python37\\lib\\random.py\u001b[0m in \u001b[0;36mrandint\u001b[1;34m(self, a, b)\u001b[0m\n\u001b[0;32m    220\u001b[0m         \"\"\"\n\u001b[0;32m    221\u001b[0m \u001b[1;33m\u001b[0m\u001b[0m\n\u001b[1;32m--> 222\u001b[1;33m         \u001b[1;32mreturn\u001b[0m \u001b[0mself\u001b[0m\u001b[1;33m.\u001b[0m\u001b[0mrandrange\u001b[0m\u001b[1;33m(\u001b[0m\u001b[0ma\u001b[0m\u001b[1;33m,\u001b[0m \u001b[0mb\u001b[0m\u001b[1;33m+\u001b[0m\u001b[1;36m1\u001b[0m\u001b[1;33m)\u001b[0m\u001b[1;33m\u001b[0m\u001b[1;33m\u001b[0m\u001b[0m\n\u001b[0m\u001b[0;32m    223\u001b[0m \u001b[1;33m\u001b[0m\u001b[0m\n\u001b[0;32m    224\u001b[0m     def _randbelow(self, n, int=int, maxsize=1<<BPF, type=type,\n",
      "\u001b[1;32mc:\\Users\\mgilj\\AppData\\Local\\Programs\\Python\\Python37\\lib\\random.py\u001b[0m in \u001b[0;36mrandrange\u001b[1;34m(self, start, stop, step, _int)\u001b[0m\n\u001b[0;32m    196\u001b[0m         \u001b[0mwidth\u001b[0m \u001b[1;33m=\u001b[0m \u001b[0mistop\u001b[0m \u001b[1;33m-\u001b[0m \u001b[0mistart\u001b[0m\u001b[1;33m\u001b[0m\u001b[1;33m\u001b[0m\u001b[0m\n\u001b[0;32m    197\u001b[0m         \u001b[1;32mif\u001b[0m \u001b[0mstep\u001b[0m \u001b[1;33m==\u001b[0m \u001b[1;36m1\u001b[0m \u001b[1;32mand\u001b[0m \u001b[0mwidth\u001b[0m \u001b[1;33m>\u001b[0m \u001b[1;36m0\u001b[0m\u001b[1;33m:\u001b[0m\u001b[1;33m\u001b[0m\u001b[1;33m\u001b[0m\u001b[0m\n\u001b[1;32m--> 198\u001b[1;33m             \u001b[1;32mreturn\u001b[0m \u001b[0mistart\u001b[0m \u001b[1;33m+\u001b[0m \u001b[0mself\u001b[0m\u001b[1;33m.\u001b[0m\u001b[0m_randbelow\u001b[0m\u001b[1;33m(\u001b[0m\u001b[0mwidth\u001b[0m\u001b[1;33m)\u001b[0m\u001b[1;33m\u001b[0m\u001b[1;33m\u001b[0m\u001b[0m\n\u001b[0m\u001b[0;32m    199\u001b[0m         \u001b[1;32mif\u001b[0m \u001b[0mstep\u001b[0m \u001b[1;33m==\u001b[0m \u001b[1;36m1\u001b[0m\u001b[1;33m:\u001b[0m\u001b[1;33m\u001b[0m\u001b[1;33m\u001b[0m\u001b[0m\n\u001b[0;32m    200\u001b[0m             \u001b[1;32mraise\u001b[0m \u001b[0mValueError\u001b[0m\u001b[1;33m(\u001b[0m\u001b[1;34m\"empty range for randrange() (%d,%d, %d)\"\u001b[0m \u001b[1;33m%\u001b[0m \u001b[1;33m(\u001b[0m\u001b[0mistart\u001b[0m\u001b[1;33m,\u001b[0m \u001b[0mistop\u001b[0m\u001b[1;33m,\u001b[0m \u001b[0mwidth\u001b[0m\u001b[1;33m)\u001b[0m\u001b[1;33m)\u001b[0m\u001b[1;33m\u001b[0m\u001b[1;33m\u001b[0m\u001b[0m\n",
      "\u001b[1;32mc:\\Users\\mgilj\\AppData\\Local\\Programs\\Python\\Python37\\lib\\random.py\u001b[0m in \u001b[0;36m_randbelow\u001b[1;34m(self, n, int, maxsize, type, Method, BuiltinMethod)\u001b[0m\n\u001b[0;32m    222\u001b[0m         \u001b[1;32mreturn\u001b[0m \u001b[0mself\u001b[0m\u001b[1;33m.\u001b[0m\u001b[0mrandrange\u001b[0m\u001b[1;33m(\u001b[0m\u001b[0ma\u001b[0m\u001b[1;33m,\u001b[0m \u001b[0mb\u001b[0m\u001b[1;33m+\u001b[0m\u001b[1;36m1\u001b[0m\u001b[1;33m)\u001b[0m\u001b[1;33m\u001b[0m\u001b[1;33m\u001b[0m\u001b[0m\n\u001b[0;32m    223\u001b[0m \u001b[1;33m\u001b[0m\u001b[0m\n\u001b[1;32m--> 224\u001b[1;33m     def _randbelow(self, n, int=int, maxsize=1<<BPF, type=type,\n\u001b[0m\u001b[0;32m    225\u001b[0m                    Method=_MethodType, BuiltinMethod=_BuiltinMethodType):\n\u001b[0;32m    226\u001b[0m         \u001b[1;34m\"Return a random int in the range [0,n).  Raises ValueError if n==0.\"\u001b[0m\u001b[1;33m\u001b[0m\u001b[1;33m\u001b[0m\u001b[0m\n",
      "\u001b[1;31mKeyboardInterrupt\u001b[0m: "
     ]
    }
   ],
   "source": [
    "#Este código se encarga de que la máquina dispare al tablero del jugador\n",
    "print(tablero_del_jugador)\n",
    "print(\" \")\n",
    "while True:\n",
    "    \"\"\"\n",
    "    Bucle que continua hasta que no se ejecute correctamente el disparo de la máquina\n",
    "    \"\"\"\n",
    "    #Creamos las filas y columnas en las que dispara aleatoriamente\n",
    "    fila=random.randint(0, 9) \n",
    "    columna=random.randint(0, 9)\n",
    "    coordenada_disparo=tablero_del_jugador[fila][columna]\n",
    "    #Defino la variable \"terminar\": tiene como objeto que si cambia a True significa que ha derrivado todos los objetivos\n",
    "    #Por lo que puede finalizar el juego\n",
    "    terminar=False\n",
    "    if coordenada_disparo in barco_icon.values():\n",
    "        #Si dispara donde hay un barco cambia al icono del fuego y comprueba si siguen quedando más barcos en el tablero\n",
    "        print(\"La máquina ha disparado en un barco\")\n",
    "        tablero_del_jugador[fila][columna]=shoot_icon\n",
    "        print(tablero_del_jugador)\n",
    "        for fila in tablero_del_jugador:\n",
    "            if barco_icon not in fila:\n",
    "                terminar=True\n",
    "            else:\n",
    "                pass\n",
    "\n",
    "    elif (coordenada_disparo==agua_icon) or (coordenada_disparo==shoot_icon):\n",
    "        #Si dispara donde ya había disparado antes vuele a ejecutar el bucle\n",
    "        continue\n",
    "\n",
    "    elif coordenada_disparo==\" \":\n",
    "        #Si dispara donde hay un espacio \" \" cambialo por el símbolo de agua y sal del bucle\n",
    "        print(\"La máquina ha disparado en agua\")\n",
    "        tablero_del_jugador[fila][columna]=agua_icon\n",
    "        print(tablero_del_jugador)\n",
    "        break\n",
    "    if terminar==True:\n",
    "        #Si el estado de terminar se vuelve True finaliza el bucle completamente: El juego ha finalizado\n",
    "        print(\"Terminado\")\n",
    "        break"
   ]
  }
 ],
 "metadata": {
  "kernelspec": {
   "display_name": "Python 3",
   "language": "python",
   "name": "python3"
  },
  "language_info": {
   "codemirror_mode": {
    "name": "ipython",
    "version": 3
   },
   "file_extension": ".py",
   "mimetype": "text/x-python",
   "name": "python",
   "nbconvert_exporter": "python",
   "pygments_lexer": "ipython3",
   "version": "3.7.4"
  },
  "orig_nbformat": 4
 },
 "nbformat": 4,
 "nbformat_minor": 2
}
