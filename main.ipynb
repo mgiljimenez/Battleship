{
 "cells": [
  {
   "cell_type": "code",
   "execution_count": 26,
   "metadata": {},
   "outputs": [],
   "source": [
    "import numpy\n",
    "import random\n",
    "from battleship_config import tablero, TAM_BARCOS,TAM_TABLERO,barco_icon,shoot_icon,agua_icon\n"
   ]
  },
  {
   "cell_type": "code",
   "execution_count": 27,
   "metadata": {},
   "outputs": [],
   "source": [
    "class disparodemaquina:\n",
    "    def __init__(self):\n",
    "        pass\n",
    "    def disparar(self):\n",
    "        self=tablero_del_jugador\n",
    "        while True:\n",
    "            fila=random.randint(0, 9) \n",
    "            columna=random.randint(0, 9)\n",
    "            coordenada_disparo=tablero_del_jugador[fila][columna]\n",
    "            #Defino la variable \"terminar\": tiene como objeto que si cambia a True significa que ha derrivado todos los objetivos\n",
    "            #Por lo que puede finalizar el juego\n",
    "            terminar=False\n",
    "            if (coordenada_disparo==agua_icon) or (coordenada_disparo==shoot_icon):\n",
    "                #Si dispara donde ya había disparado antes vuele a ejecutar el bucle\n",
    "                continue\n",
    "\n",
    "            elif coordenada_disparo==\" \":\n",
    "                #Si dispara donde hay un espacio \" \" cambialo por el símbolo de agua y sal del bucle\n",
    "                print(\"La máquina ha disparado en agua\")\n",
    "                tablero_del_jugador[fila][columna]=agua_icon\n",
    "                print(tablero_del_jugador)\n",
    "                break\n",
    "            else:\n",
    "                #Si dispara donde hay un barco cambia al icono del fuego y comprueba si siguen quedando más barcos en el tablero\n",
    "                print(\"La máquina ha disparado en un barco\")\n",
    "                tablero_del_jugador[fila][columna]=shoot_icon\n",
    "                print(tablero_del_jugador)\n",
    "                terminar=True\n",
    "                if not any(barco_icon in fila for fila in tablero_del_jugador):\n",
    "                    terminar=False \n",
    "                    ##CORREGIR CODIGO PARA SALIR DEL BUCLE\n",
    "            if terminar==True:\n",
    "                #Si el estado de terminar se vuelve True finaliza el bucle completamente: El juego ha finalizado\n",
    "                print(\"Terminado\")\n",
    "                break"
   ]
  },
  {
   "cell_type": "code",
   "execution_count": 28,
   "metadata": {},
   "outputs": [],
   "source": [
    "#Este es el código de Alba pasado a Clases\n",
    "tablero_del_jugador_inicializar=tablero(TAM_BARCOS,TAM_TABLERO, barco_icon)\n",
    "tablero_del_jugador=tablero_del_jugador_inicializar.generar_tablero(numpy.full((TAM_TABLERO, TAM_TABLERO), \" \"))\n",
    "\n",
    "tablero_maquina_inicializar=tablero(TAM_BARCOS,TAM_TABLERO, barco_icon)\n",
    "tablero_maquina=tablero_maquina_inicializar.generar_tablero(numpy.full((TAM_TABLERO, TAM_TABLERO), \" \"))\n",
    "\n",
    "tablero_interactivo=numpy.full((TAM_TABLERO, TAM_TABLERO), \" \")\n"
   ]
  },
  {
   "cell_type": "code",
   "execution_count": 31,
   "metadata": {},
   "outputs": [
    {
     "name": "stdout",
     "output_type": "stream",
     "text": [
      "La máquina ha disparado en agua\n",
      "[[' ' ' ' ' ' ' ' '🛳' '🛳' '🛳' ' ' ' ' ' ']\n",
      " [' ' ' ' ' ' ' ' '🛳' ' ' ' ' ' ' ' ' ' ']\n",
      " [' ' ' ' '🚣' ' ' '🛳' ' ' ' ' ' ' ' ' ' ']\n",
      " ['🚣' ' ' ' ' ' ' '🛳' ' ' ' ' ' ' ' ' ' ']\n",
      " ['🚢' '💥' ' ' ' ' ' ' ' ' ' ' ' ' ' ' ' ']\n",
      " [' ' ' ' ' ' ' ' '🌊' ' ' ' ' ' ' ' ' ' ']\n",
      " [' ' ' ' ' ' ' ' ' ' ' ' ' ' ' ' ' ' ' ']\n",
      " [' ' ' ' '🚢' '🚢' ' ' ' ' ' ' '🚢' '🌊' ' ']\n",
      " [' ' ' ' ' ' ' ' '🌊' ' ' ' ' '🚢' ' ' ' ']\n",
      " [' ' '🚣' '🚤' '🚤' '🚤' '🚤' '🚣' ' ' ' ' ' ']]\n"
     ]
    }
   ],
   "source": [
    "tablero_maquina=disparodemaquina.disparar(tablero_maquina)"
   ]
  }
 ],
 "metadata": {
  "kernelspec": {
   "display_name": "Python 3",
   "language": "python",
   "name": "python3"
  },
  "language_info": {
   "codemirror_mode": {
    "name": "ipython",
    "version": 3
   },
   "file_extension": ".py",
   "mimetype": "text/x-python",
   "name": "python",
   "nbconvert_exporter": "python",
   "pygments_lexer": "ipython3",
   "version": "3.7.4"
  },
  "orig_nbformat": 4
 },
 "nbformat": 4,
 "nbformat_minor": 2
}
