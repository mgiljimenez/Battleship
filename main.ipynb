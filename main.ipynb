{
 "cells": [
  {
   "cell_type": "code",
   "execution_count": 1,
   "metadata": {},
   "outputs": [],
   "source": [
    "import numpy\n",
    "import random\n",
    "from battleship_config import tablero, TAM_BARCOS,TAM_TABLERO,barco_icon,shoot_icon,agua_icon\n"
   ]
  },
  {
   "cell_type": "code",
   "execution_count": 2,
   "metadata": {},
   "outputs": [],
   "source": [
    "#Este es el código de Alba pasado a Clases\n",
    "tablero_del_jugador_inicializar=tablero(TAM_BARCOS,TAM_TABLERO, barco_icon)\n",
    "tablero_del_jugador=tablero_del_jugador_inicializar.generar_tablero(numpy.full((TAM_TABLERO, TAM_TABLERO), \" \"))\n",
    "\n",
    "tablero_maquina_inicializar=tablero(TAM_BARCOS,TAM_TABLERO, barco_icon)\n",
    "tablero_maquina=tablero_maquina_inicializar.generar_tablero(numpy.full((TAM_TABLERO, TAM_TABLERO), \" \"))\n",
    "\n",
    "tablero_interactivo=numpy.full((TAM_TABLERO, TAM_TABLERO), \" \")\n"
   ]
  },
  {
   "cell_type": "code",
   "execution_count": 3,
   "metadata": {},
   "outputs": [
    {
     "name": "stdout",
     "output_type": "stream",
     "text": [
      "[[' ' ' ' ' ' ' ' ' ' ' ' ' ' ' ' ' ' ' ']\n",
      " [' ' ' ' ' ' ' ' ' ' ' ' ' ' ' ' ' ' ' ']\n",
      " [' ' ' ' ' ' ' ' ' ' '🛳' ' ' '🚣' ' ' ' ']\n",
      " ['🚢' '🚢' ' ' '🚣' ' ' '🛳' ' ' ' ' ' ' ' ']\n",
      " ['🚢' '🚢' ' ' ' ' ' ' '🛳' '🚢' ' ' ' ' '🚣']\n",
      " [' ' ' ' ' ' ' ' ' ' ' ' '🚢' '🛳' ' ' ' ']\n",
      " [' ' ' ' ' ' '🚣' ' ' ' ' ' ' '🛳' ' ' ' ']\n",
      " [' ' ' ' ' ' ' ' ' ' ' ' ' ' '🛳' ' ' ' ']\n",
      " [' ' ' ' ' ' ' ' ' ' ' ' ' ' ' ' ' ' ' ']\n",
      " [' ' ' ' '🚤' '🚤' '🚤' '🚤' ' ' ' ' ' ' ' ']]\n",
      " \n",
      "La máquina ha disparado en agua\n",
      "[[' ' ' ' ' ' ' ' ' ' ' ' ' ' ' ' ' ' ' ']\n",
      " [' ' ' ' ' ' ' ' ' ' ' ' ' ' ' ' ' ' ' ']\n",
      " [' ' ' ' ' ' ' ' ' ' '🛳' ' ' '🚣' ' ' ' ']\n",
      " ['🚢' '🚢' ' ' '🚣' ' ' '🛳' ' ' ' ' ' ' ' ']\n",
      " ['🚢' '🚢' ' ' ' ' ' ' '🛳' '🚢' ' ' ' ' '🚣']\n",
      " [' ' ' ' ' ' ' ' ' ' ' ' '🚢' '🛳' ' ' ' ']\n",
      " [' ' ' ' ' ' '🚣' ' ' ' ' ' ' '🛳' '🌊' ' ']\n",
      " [' ' ' ' ' ' ' ' ' ' ' ' ' ' '🛳' ' ' ' ']\n",
      " [' ' ' ' ' ' ' ' ' ' ' ' ' ' ' ' ' ' ' ']\n",
      " [' ' ' ' '🚤' '🚤' '🚤' '🚤' ' ' ' ' ' ' ' ']]\n"
     ]
    }
   ],
   "source": [
    "#Este código se encarga de que la máquina dispare al tablero del jugador\n",
    "print(tablero_del_jugador)\n",
    "print(\" \")\n",
    "while True:\n",
    "    \"\"\"\n",
    "    Bucle que continua hasta que no se ejecute correctamente el disparo de la máquina\n",
    "    \"\"\"\n",
    "    #Creamos las filas y columnas en las que dispara aleatoriamente\n",
    "    fila=random.randint(0, 9) \n",
    "    columna=random.randint(0, 9)\n",
    "    coordenada_disparo=tablero_del_jugador[fila][columna]\n",
    "    #Defino la variable \"terminar\": tiene como objeto que si cambia a True significa que ha derrivado todos los objetivos\n",
    "    #Por lo que puede finalizar el juego\n",
    "    terminar=False\n",
    "    if coordenada_disparo in barco_icon.values():\n",
    "        #Si dispara donde hay un barco cambia al icono del fuego y comprueba si siguen quedando más barcos en el tablero\n",
    "        print(\"La máquina ha disparado en un barco\")\n",
    "        tablero_del_jugador[fila][columna]=shoot_icon\n",
    "        print(tablero_del_jugador)\n",
    "        #DEFINIR COMO CAMBIA TERMINAR A FALSE PARA SALIR DE BUCLE\n",
    "\n",
    "    elif (coordenada_disparo==agua_icon) or (coordenada_disparo==shoot_icon):\n",
    "        #Si dispara donde ya había disparado antes vuele a ejecutar el bucle\n",
    "        continue\n",
    "\n",
    "    elif coordenada_disparo==\" \":\n",
    "        #Si dispara donde hay un espacio \" \" cambialo por el símbolo de agua y sal del bucle\n",
    "        print(\"La máquina ha disparado en agua\")\n",
    "        tablero_del_jugador[fila][columna]=agua_icon\n",
    "        print(tablero_del_jugador)\n",
    "        break\n",
    "    if terminar==True:\n",
    "        #Si el estado de terminar se vuelve True finaliza el bucle completamente: El juego ha finalizado\n",
    "        print(\"Terminado\")\n",
    "        break"
   ]
  }
 ],
 "metadata": {
  "kernelspec": {
   "display_name": "Python 3",
   "language": "python",
   "name": "python3"
  },
  "language_info": {
   "codemirror_mode": {
    "name": "ipython",
    "version": 3
   },
   "file_extension": ".py",
   "mimetype": "text/x-python",
   "name": "python",
   "nbconvert_exporter": "python",
   "pygments_lexer": "ipython3",
   "version": "3.7.4"
  },
  "orig_nbformat": 4
 },
 "nbformat": 4,
 "nbformat_minor": 2
}
