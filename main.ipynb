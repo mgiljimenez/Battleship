{
 "cells": [
  {
   "cell_type": "code",
   "execution_count": 177,
   "metadata": {},
   "outputs": [],
   "source": [
    "import numpy\n",
    "import random\n",
    "from battleship_config import tablero, TAM_BARCOS,TAM_TABLERO,barco_icon,shoot_icon,agua_icon\n"
   ]
  },
  {
   "cell_type": "code",
   "execution_count": 260,
   "metadata": {},
   "outputs": [],
   "source": [
    "#Este es el código de Alba pasado a Clases\n",
    "tablero_del_jugador_inicializar=tablero(TAM_BARCOS,TAM_TABLERO, barco_icon)\n",
    "tablero_del_jugador=tablero_del_jugador_inicializar.generar_tablero(numpy.full((TAM_TABLERO, TAM_TABLERO), \" \"))\n",
    "\n",
    "tablero_maquina_inicializar=tablero(TAM_BARCOS,TAM_TABLERO, barco_icon)\n",
    "tablero_maquina=tablero_maquina_inicializar.generar_tablero(numpy.full((TAM_TABLERO, TAM_TABLERO), \" \"))\n",
    "\n",
    "tablero_interactivo=numpy.full((TAM_TABLERO, TAM_TABLERO), \" \")\n"
   ]
  },
  {
   "cell_type": "code",
   "execution_count": 341,
   "metadata": {},
   "outputs": [
    {
     "name": "stdout",
     "output_type": "stream",
     "text": [
      "[['🌊' '🌊' '🌊' '🌊' '🌊' '🌊' '🌊' '🌊' '🌊' '🌊']\n",
      " ['🌊' '🌊' '🌊' '🌊' '🌊' '💥' '💥' '💥' '🌊' '🌊']\n",
      " ['🌊' '🌊' '🌊' '🌊' '🌊' '💥' '🌊' '🌊' '🌊' '🌊']\n",
      " ['🌊' '🌊' '🌊' '💥' '🌊' '🌊' '🌊' '💥' '🌊' '🌊']\n",
      " ['🌊' '🌊' '💥' '💥' '🌊' '🌊' '🌊' '💥' '🌊' '🌊']\n",
      " ['🌊' '🌊' '🌊' '💥' '🌊' '🌊' '🌊' '🌊' '🌊' '💥']\n",
      " ['🌊' '🌊' '🌊' '💥' '🌊' '🌊' '🌊' '🌊' '🌊' '💥']\n",
      " ['🌊' '🌊' '🌊' '💥' '🌊' '🌊' '🌊' '🌊' '🌊' '💥']\n",
      " ['🌊' '🌊' '🌊' '🌊' '🌊' '🌊' '🌊' '🌊' '🌊' '💥']\n",
      " ['🌊' '🌊' '🌊' '💥' '💥' '💥' '💥' '🌊' '🌊' '🌊']]\n",
      " \n"
     ]
    },
    {
     "ename": "KeyboardInterrupt",
     "evalue": "",
     "output_type": "error",
     "traceback": [
      "\u001b[1;31m---------------------------------------------------------------------------\u001b[0m",
      "\u001b[1;31mKeyboardInterrupt\u001b[0m                         Traceback (most recent call last)",
      "\u001b[1;32m~\\AppData\\Local\\Temp\\ipykernel_12812\\646105147.py\u001b[0m in \u001b[0;36m<module>\u001b[1;34m\u001b[0m\n\u001b[0;32m      7\u001b[0m     \"\"\"\n\u001b[0;32m      8\u001b[0m     \u001b[1;31m#Creamos las filas y columnas en las que dispara aleatoriamente\u001b[0m\u001b[1;33m\u001b[0m\u001b[1;33m\u001b[0m\u001b[1;33m\u001b[0m\u001b[0m\n\u001b[1;32m----> 9\u001b[1;33m     \u001b[0mfila\u001b[0m\u001b[1;33m=\u001b[0m\u001b[0mrandom\u001b[0m\u001b[1;33m.\u001b[0m\u001b[0mrandint\u001b[0m\u001b[1;33m(\u001b[0m\u001b[1;36m0\u001b[0m\u001b[1;33m,\u001b[0m \u001b[1;36m9\u001b[0m\u001b[1;33m)\u001b[0m\u001b[1;33m\u001b[0m\u001b[1;33m\u001b[0m\u001b[0m\n\u001b[0m\u001b[0;32m     10\u001b[0m     \u001b[0mcolumna\u001b[0m\u001b[1;33m=\u001b[0m\u001b[0mrandom\u001b[0m\u001b[1;33m.\u001b[0m\u001b[0mrandint\u001b[0m\u001b[1;33m(\u001b[0m\u001b[1;36m0\u001b[0m\u001b[1;33m,\u001b[0m \u001b[1;36m9\u001b[0m\u001b[1;33m)\u001b[0m\u001b[1;33m\u001b[0m\u001b[1;33m\u001b[0m\u001b[0m\n\u001b[0;32m     11\u001b[0m     \u001b[0mcoordenada_disparo\u001b[0m\u001b[1;33m=\u001b[0m\u001b[0mtablero_del_jugador\u001b[0m\u001b[1;33m[\u001b[0m\u001b[0mfila\u001b[0m\u001b[1;33m]\u001b[0m\u001b[1;33m[\u001b[0m\u001b[0mcolumna\u001b[0m\u001b[1;33m]\u001b[0m\u001b[1;33m\u001b[0m\u001b[1;33m\u001b[0m\u001b[0m\n",
      "\u001b[1;31mKeyboardInterrupt\u001b[0m: "
     ]
    }
   ],
   "source": [
    "#Este código se encarga de que la máquina dispare al tablero del jugador\n",
    "print(tablero_del_jugador)\n",
    "print(\" \")\n",
    "while True:\n",
    "    \"\"\"\n",
    "    Bucle que continua hasta que no se ejecute correctamente el disparo de la máquina\n",
    "    \"\"\"\n",
    "    #Creamos las filas y columnas en las que dispara aleatoriamente\n",
    "    fila=random.randint(0, 9) \n",
    "    columna=random.randint(0, 9)\n",
    "    coordenada_disparo=tablero_del_jugador[fila][columna]\n",
    "    #Defino la variable \"terminar\": tiene como objeto que si cambia a True significa que ha derrivado todos los objetivos\n",
    "    #Por lo que puede finalizar el juego\n",
    "    terminar=False\n",
    "\n",
    "    if (coordenada_disparo==agua_icon) or (coordenada_disparo==shoot_icon):\n",
    "        #Si dispara donde ya había disparado antes vuele a ejecutar el bucle\n",
    "        continue\n",
    "\n",
    "    elif coordenada_disparo==\" \":\n",
    "        #Si dispara donde hay un espacio \" \" cambialo por el símbolo de agua y sal del bucle\n",
    "        print(\"La máquina ha disparado en agua\")\n",
    "        tablero_del_jugador[fila][columna]=agua_icon\n",
    "        print(tablero_del_jugador)\n",
    "        break\n",
    "    else:\n",
    "        #Si dispara donde hay un barco cambia al icono del fuego y comprueba si siguen quedando más barcos en el tablero\n",
    "        print(\"La máquina ha disparado en un barco\")\n",
    "        tablero_del_jugador[fila][columna]=shoot_icon\n",
    "        print(tablero_del_jugador)\n",
    "        #DEFINIR COMO CAMBIA TERMINAR A FALSE PARA SALIR DE BUCLE\n",
    "    if terminar==True:\n",
    "        #Si el estado de terminar se vuelve True finaliza el bucle completamente: El juego ha finalizado\n",
    "        print(\"Terminado\")\n",
    "        break"
   ]
  }
 ],
 "metadata": {
  "kernelspec": {
   "display_name": "Python 3",
   "language": "python",
   "name": "python3"
  },
  "language_info": {
   "codemirror_mode": {
    "name": "ipython",
    "version": 3
   },
   "file_extension": ".py",
   "mimetype": "text/x-python",
   "name": "python",
   "nbconvert_exporter": "python",
   "pygments_lexer": "ipython3",
   "version": "3.7.4"
  },
  "orig_nbformat": 4
 },
 "nbformat": 4,
 "nbformat_minor": 2
}
