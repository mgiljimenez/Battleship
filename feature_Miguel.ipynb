{
 "cells": [
  {
   "attachments": {},
   "cell_type": "markdown",
   "metadata": {},
   "source": [
    "\tNUEVO BUCLE WHILE (3):\n",
    "\t\t8)Genera unas coordenadas aleatorias que no hayan sido ya usadas para disparar en el tablero del jugador:\n",
    "\n",
    "\t\t9)Comprobar disparo de la máquina en el tablero del jugador:\n",
    "\t\t\t-Si no hay barco en esa coordenada: cambiar la celda por un emoji agua\n",
    "\t\t\t-Si hay barco en esa coordenada: cambiar la celda emoji explosion y comprobar si siguen quedando barcos en el tablero (sino ha finalizado el juego)\n",
    "\t\t10)Si ha acertado: mostrar tablero por pantalla y volver al bucle (3), \n",
    "\t\t   si no ha acertado continuar (salir del bucle 3)\n",
    "\n",
    "\n",
    "\t10)Mostrar tablero del jugador para ver el resultado del tiro de la máquina\n",
    "\t11)Mostrar tablero de la máquina para ver el resultado de mi tiro y volver a tirar (vuelve a bucle 1)\n",
    "\n",
    "\n",
    "ESTO NO ESTÁ DENTO DEL BUCLE 1:\n",
    "\n",
    "12) Finalizar juego haciendo un print\n",
    "\n",
    "\n",
    "\t-simbolo del barco:   \t   barco_icon= ya se definirá el emoji (pero trabajad con el nombre barco_icon)\n",
    "\t-simbolo del agua:\t\t   agua_icon=  ya se definirá el emoji (pero trabajad con el nombre agua_icon)\n",
    "\t-simbolo de haber disparado a un barco: shoot_icon= ya se definirá el emoji (pero trabajad con el nombre shoot_icon)\n",
    "\n"
   ]
  },
  {
   "cell_type": "code",
   "execution_count": 1,
   "metadata": {},
   "outputs": [],
   "source": [
    "\"\"\"\n",
    "Creo las variables y tablero para simular que se han creado en el código de Alba y que las variables están en el\n",
    "fichero correspondiente\n",
    "\"\"\"\n",
    "\n",
    "TAM_TABLERO=10\n",
    "TAM_BARCOS=[1,2,3,4]\n",
    "\n",
    "barco_icon=\"barco\"\n",
    "agua_icon=\"agua\"\n",
    "shoot_icon=\"shoot\"\n",
    "\n",
    "tablero_usuario=[[\"agua\",\" \",\"agua\",\" \",\" \",\" \",\"agua\",\" \",\" \",\" \"],\n",
    "                 [\" \",\" \",\" \",\" \",\" \",\" \",\" \",\" \",\" \",\" \"],\n",
    "                 [\" \",\"agua\",\" \",\"barco\",\" \",\" \",\" \",\" \",\" \",\" \"],\n",
    "                 [\" \",\" \",\" \",\" \",\" \",\" \",\" \",\" \",\"barco\",\" \"],\n",
    "                 [\" \",\" \",\"barco\",\" \",\" \",\" \",\" \",\" \",\" \",\" \"],\n",
    "                 [\" \",\" \",\" \",\" \",\" \",\" \",\"barco\",\" \",\" \",\" \"],\n",
    "                 [\" \",\" \",\" \",\" \",\" \",\" \",\" \",\" \",\" \",\" \"],\n",
    "                 [\" \",\" \",\" \",\" \",\" \",\" \",\" \",\" \",\" \",\" \"],\n",
    "                 [\" \",\" \",\" \",\" \",\" \",\" \",\" \",\" \",\" \",\" \"],\n",
    "                 [\" \",\" \",\" \",\" \",\"barco\",\" \",\" \",\" \",\" \",\" \"]]"
   ]
  },
  {
   "cell_type": "code",
   "execution_count": 2,
   "metadata": {},
   "outputs": [
    {
     "name": "stdout",
     "output_type": "stream",
     "text": [
      "La máquina ha disparado en agua\n",
      "[['agua', ' ', 'agua', ' ', ' ', ' ', 'agua', ' ', ' ', ' '], [' ', ' ', ' ', ' ', ' ', ' ', ' ', ' ', ' ', ' '], [' ', 'agua', ' ', 'barco', ' ', ' ', ' ', ' ', ' ', ' '], [' ', ' ', ' ', ' ', ' ', ' ', ' ', ' ', 'barco', ' '], [' ', ' ', 'barco', ' ', ' ', ' ', 'agua', ' ', ' ', ' '], [' ', ' ', ' ', ' ', ' ', ' ', 'barco', ' ', ' ', ' '], [' ', ' ', ' ', ' ', ' ', ' ', ' ', ' ', ' ', ' '], [' ', ' ', ' ', ' ', ' ', ' ', ' ', ' ', ' ', ' '], [' ', ' ', ' ', ' ', ' ', ' ', ' ', ' ', ' ', ' '], [' ', ' ', ' ', ' ', 'barco', ' ', ' ', ' ', ' ', ' ']]\n"
     ]
    }
   ],
   "source": [
    "import random\n",
    "import numpy as np\n",
    "\n",
    "\n",
    "while True:\n",
    "    \"\"\"\n",
    "    Bucle que continua hasta que no se ejecute correctamente el disparo de la máquina\n",
    "    \"\"\"\n",
    "    #Creamos las filas y columnas en las que dispara aleatoriamente\n",
    "    fila=random.randint(0, 9) \n",
    "    columna=random.randint(0, 9)\n",
    "    coordenada_disparo=tablero_usuario[fila][columna]\n",
    "    #Defino la variable \"terminar\": tiene como objeto que si cambia a True significa que ha derrivado todos los objetivos\n",
    "    #Por lo que puede finalizar el juego\n",
    "    terminar=False\n",
    "    if coordenada_disparo==barco_icon:\n",
    "        #Si dispara donde hay un barco cambia al icono del fuego y comprueba si siguen quedando más barcos en el tablero\n",
    "        print(\"La máquina ha disparado en un barco\")\n",
    "        tablero_usuario[fila][columna]=shoot_icon\n",
    "        print(tablero_usuario)\n",
    "        for fila in tablero_usuario:\n",
    "            if barco_icon not in fila:\n",
    "                terminar=True\n",
    "            else:\n",
    "                pass\n",
    "        if terminar==True:\n",
    "            break\n",
    "\n",
    "    elif (coordenada_disparo==agua_icon) or (coordenada_disparo==shoot_icon):\n",
    "        #Si dispara donde ya había disparado antes vuele a ejecutar el bucle\n",
    "        continue\n",
    "\n",
    "    elif coordenada_disparo==\" \":\n",
    "        #Si dispara donde hay un espacio \" \" cambialo por el símbolo de agua y sal del bucle\n",
    "        print(\"La máquina ha disparado en agua\")\n",
    "        tablero_usuario[fila][columna]=agua_icon\n",
    "        print(tablero_usuario)\n",
    "        break\n",
    "    if terminar==True:\n",
    "        #Si el estado de terminar se vuelve True finaliza el bucle completamente: El juego ha finalizado\n",
    "        print(\"Terminado\")\n",
    "        break"
   ]
  }
 ],
 "metadata": {
  "kernelspec": {
   "display_name": "Python 3",
   "language": "python",
   "name": "python3"
  },
  "language_info": {
   "codemirror_mode": {
    "name": "ipython",
    "version": 3
   },
   "file_extension": ".py",
   "mimetype": "text/x-python",
   "name": "python",
   "nbconvert_exporter": "python",
   "pygments_lexer": "ipython3",
   "version": "3.7.4"
  },
  "orig_nbformat": 4
 },
 "nbformat": 4,
 "nbformat_minor": 2
}
