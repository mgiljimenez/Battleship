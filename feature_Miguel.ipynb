{
 "cells": [
  {
   "attachments": {},
   "cell_type": "markdown",
   "metadata": {},
   "source": [
    "\tNUEVO BUCLE WHILE (3):\n",
    "\t\t8)Genera unas coordenadas aleatorias que no hayan sido ya usadas para disparar en el tablero del jugador:\n",
    "\n",
    "\t\t9)Comprobar disparo de la máquina en el tablero del jugador:\n",
    "\t\t\t-Si no hay barco en esa coordenada: cambiar la celda por un emoji agua\n",
    "\t\t\t-Si hay barco en esa coordenada: cambiar la celda emoji explosion y comprobar si siguen quedando barcos en el tablero (sino ha finalizado el juego)\n",
    "\t\t10)Si ha acertado: mostrar tablero por pantalla y volver al bucle (3), \n",
    "\t\t   si no ha acertado continuar (salir del bucle 3)\n",
    "\n",
    "\n",
    "\t10)Mostrar tablero del jugador para ver el resultado del tiro de la máquina\n",
    "\t11)Mostrar tablero de la máquina para ver el resultado de mi tiro y volver a tirar (vuelve a bucle 1)\n",
    "\n",
    "\n",
    "ESTO NO ESTÁ DENTO DEL BUCLE 1:\n",
    "\n",
    "12) Finalizar juego haciendo un print\n",
    "\n",
    "\n",
    "\t-simbolo del barco:   \t   barco_icon= ya se definirá el emoji (pero trabajad con el nombre barco_icon)\n",
    "\t-simbolo del agua:\t\t   agua_icon=  ya se definirá el emoji (pero trabajad con el nombre agua_icon)\n",
    "\t-simbolo de haber disparado a un barco: shoot_icon= ya se definirá el emoji (pero trabajad con el nombre shoot_icon)\n",
    "\n"
   ]
  },
  {
   "cell_type": "code",
   "execution_count": 247,
   "metadata": {},
   "outputs": [],
   "source": [
    "TAM_TABLERO=10\n",
    "TAM_BARCOS=[1,2,3,4]\n",
    "\n",
    "barco_icon=\"barco\"\n",
    "agua_icon=\"agua\"\n",
    "shoot_icon=\"shoot\"\n",
    "\n",
    "tablero_maquina=[[\"agua\",\" \",\"agua\",\" \",\" \",\" \",\"agua\",\" \",\" \",\" \"],\n",
    "                 [\" \",\" \",\" \",\" \",\" \",\" \",\" \",\" \",\" \",\" \"],\n",
    "                 [\" \",\"agua\",\" \",\"barco\",\" \",\" \",\" \",\" \",\" \",\" \"],\n",
    "                 [\" \",\" \",\" \",\" \",\" \",\" \",\" \",\" \",\"barco\",\" \"],\n",
    "                 [\" \",\" \",\"barco\",\" \",\" \",\" \",\" \",\" \",\" \",\" \"],\n",
    "                 [\" \",\" \",\" \",\" \",\" \",\" \",\"barco\",\" \",\" \",\" \"],\n",
    "                 [\" \",\" \",\" \",\" \",\" \",\" \",\" \",\" \",\" \",\" \"],\n",
    "                 [\" \",\" \",\" \",\" \",\" \",\" \",\" \",\" \",\" \",\" \"],\n",
    "                 [\" \",\" \",\" \",\" \",\" \",\" \",\" \",\" \",\" \",\" \"],\n",
    "                 [\" \",\" \",\" \",\" \",\"barco\",\" \",\" \",\" \",\" \",\" \"]]"
   ]
  },
  {
   "cell_type": "code",
   "execution_count": 248,
   "metadata": {},
   "outputs": [
    {
     "name": "stdout",
     "output_type": "stream",
     "text": [
      "La máquina ha disparado en agua\n",
      "[['agua', ' ', 'agua', ' ', ' ', ' ', ' ', ' ', ' ', ' '], [' ', ' ', ' ', ' ', ' ', ' ', ' ', ' ', ' ', ' '], [' ', ' ', ' ', 'barco', ' ', ' ', ' ', 'agua', ' ', ' '], [' ', ' ', ' ', ' ', ' ', ' ', ' ', ' ', ' ', ' '], [' ', ' ', ' ', ' ', ' ', ' ', ' ', ' ', ' ', ' '], [' ', ' ', ' ', ' ', ' ', ' ', ' ', ' ', ' ', ' '], [' ', ' ', ' ', ' ', ' ', ' ', ' ', ' ', ' ', ' '], [' ', ' ', ' ', ' ', ' ', ' ', ' ', ' ', ' ', ' '], [' ', ' ', ' ', ' ', ' ', ' ', ' ', ' ', ' ', ' '], [' ', ' ', ' ', ' ', 'barco', ' ', ' ', ' ', ' ', ' ']]\n"
     ]
    }
   ],
   "source": [
    "import random\n",
    "import numpy as np\n",
    "\n",
    "\n",
    "while True:\n",
    "    fila=random.randint(0, 9)\n",
    "    columna=random.randint(0, 9)\n",
    "    coordenada_disparo=tablero_maquina[fila][columna]\n",
    "    terminar=False\n",
    "    if coordenada_disparo==barco_icon:\n",
    "        print(\"La máquina ha disparado en un barco\")\n",
    "        tablero_maquina[fila][columna]=shoot_icon\n",
    "        print(tablero_maquina)\n",
    "        for fila in tablero_maquina:\n",
    "            if \"barco\" not in fila:\n",
    "                terminar=True\n",
    "            else:\n",
    "                pass\n",
    "        if terminar==True:\n",
    "            break\n",
    "\n",
    "    elif (coordenada_disparo==agua_icon) or (coordenada_disparo==shoot_icon):\n",
    "        continue\n",
    "\n",
    "    elif coordenada_disparo==\" \":\n",
    "        print(\"La máquina ha disparado en agua\")\n",
    "        tablero_maquina[fila][columna]=agua_icon\n",
    "        print(tablero_maquina)\n",
    "        break\n",
    "    if terminar==True:\n",
    "        print(\"Terminado\")\n",
    "        break"
   ]
  }
 ],
 "metadata": {
  "kernelspec": {
   "display_name": "Python 3",
   "language": "python",
   "name": "python3"
  },
  "language_info": {
   "codemirror_mode": {
    "name": "ipython",
    "version": 3
   },
   "file_extension": ".py",
   "mimetype": "text/x-python",
   "name": "python",
   "nbconvert_exporter": "python",
   "pygments_lexer": "ipython3",
   "version": "3.7.4"
  },
  "orig_nbformat": 4
 },
 "nbformat": 4,
 "nbformat_minor": 2
}
