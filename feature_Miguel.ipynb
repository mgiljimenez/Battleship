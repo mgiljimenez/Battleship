{
 "cells": [
  {
   "cell_type": "markdown",
   "metadata": {},
   "source": [
    "\tNUEVO BUCLE WHILE (3):\n",
    "\t\t8)Genera unas coordenadas aleatorias que no hayan sido ya usadas para disparar en el tablero del jugador:\n",
    "\n",
    "\t\t9)Comprobar disparo de la máquina en el tablero del jugador:\n",
    "\t\t\t-Si no hay barco en esa coordenada: cambiar la celda por un emoji agua\n",
    "\t\t\t-Si hay barco en esa coordenada: cambiar la celda emoji explosion y comprobar si siguen quedando barcos en el tablero (sino ha finalizado el juego)\n",
    "\t\t10)Si ha acertado: mostrar tablero por pantalla y volver al bucle (3), \n",
    "\t\t   si no ha acertado continuar (salir del bucle 3)\n",
    "\n",
    "\n",
    "\t10)Mostrar tablero del jugador para ver el resultado del tiro de la máquina\n",
    "\t11)Mostrar tablero de la máquina para ver el resultado de mi tiro y volver a tirar (vuelve a bucle 1)\n",
    "\n",
    "\n",
    "ESTO NO ESTÁ DENTO DEL BUCLE 1:\n",
    "\n",
    "12) Finalizar juego haciendo un print"
   ]
  },
  {
   "cell_type": "code",
   "execution_count": 74,
   "metadata": {},
   "outputs": [],
   "source": [
    "TAM_TABLERO=10\n",
    "TAM_BARCOS=[1,2,3,4]\n",
    "\n",
    "tablero_maquina=[[1,0,1,1,1,1,1,1,1,1],\n",
    "                 [1,1,0,1,1,1,1,1,1,1],\n",
    "                 [1,1,1,1,1,1,1,1,1,1],\n",
    "                 [1,1,1,1,1,1,1,1,1,1],\n",
    "                 [1,1,1,1,1,1,1,1,1,1],\n",
    "                 [1,0,1,1,1,1,0,1,1,1],\n",
    "                 [1,1,1,1,1,1,1,1,1,1],\n",
    "                 [1,1,1,1,1,1,1,0,1,1],\n",
    "                 [1,0,1,1,1,1,1,1,1,1],\n",
    "                 [1,1,1,1,1,1,1,1,1,1],]"
   ]
  },
  {
   "cell_type": "code",
   "execution_count": 143,
   "metadata": {},
   "outputs": [
    {
     "data": {
      "text/plain": [
       "1"
      ]
     },
     "execution_count": 143,
     "metadata": {},
     "output_type": "execute_result"
    }
   ],
   "source": [
    "import random\n",
    "fila=random.randint(0, 9)\n",
    "columna=random.randint(0, 9)\n",
    "\n",
    "\n",
    "tablero_maquina[fila][columna]\n"
   ]
  }
 ],
 "metadata": {
  "kernelspec": {
   "display_name": "Python 3",
   "language": "python",
   "name": "python3"
  },
  "language_info": {
   "codemirror_mode": {
    "name": "ipython",
    "version": 3
   },
   "file_extension": ".py",
   "mimetype": "text/x-python",
   "name": "python",
   "nbconvert_exporter": "python",
   "pygments_lexer": "ipython3",
   "version": "3.7.4"
  },
  "orig_nbformat": 4
 },
 "nbformat": 4,
 "nbformat_minor": 2
}
