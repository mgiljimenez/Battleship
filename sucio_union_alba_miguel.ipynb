{
 "cells": [
  {
   "cell_type": "code",
   "execution_count": 1,
   "metadata": {},
   "outputs": [],
   "source": [
    "from battleship_config import TAM_TABLERO, TAM_BARCOS, barco_icon, agua_icon, shoot_icon\n",
    "import numpy as np\n",
    "import pandas as pd\n",
    "import random"
   ]
  },
  {
   "cell_type": "code",
   "execution_count": 2,
   "metadata": {},
   "outputs": [],
   "source": [
    "def generar_tablero(tablero_input):\n",
    "    '''\n",
    "    Esta función es la encargada de generar los tableros y de posicionar los barcos en ellos.\n",
    "    '''\n",
    "    # Diccionario que relaciona un número entero (que representa el tamaño de un barco) con un emoji correspondiente\n",
    "    barcos = []\n",
    "    for tam_barco in TAM_BARCOS:\n",
    "        colocado = False\n",
    "        while not colocado:\n",
    "            fila, col = np.random.randint(TAM_TABLERO), np.random.randint(TAM_TABLERO)\n",
    "            direccion = np.random.choice(['arriba', 'abajo', 'izquierda', 'derecha'])\n",
    "            if direccion == 'arriba':\n",
    "                posiciones = [(fila-i, col) for i in range(tam_barco)]\n",
    "            elif direccion == 'abajo':\n",
    "                posiciones = [(fila+i, col) for i in range(tam_barco)]\n",
    "            elif direccion == 'izquierda':\n",
    "                posiciones = [(fila, col-i) for i in range(tam_barco)]\n",
    "            else:\n",
    "                posiciones = [(fila, col+i) for i in range(tam_barco)]\n",
    "            if all(0<=fila<TAM_TABLERO and 0<=col<TAM_TABLERO and tablero_input[fila, col]==\" \" for fila, col in posiciones):\n",
    "                barco = {\"tam\": tam_barco, \"posiciones\": posiciones}\n",
    "                barcos.append(barco)\n",
    "                for fila, col in posiciones:\n",
    "                    tablero_input[fila, col] = barco_icon[tam_barco]\n",
    "                colocado = True\n",
    "    \n",
    "    return tablero_input\n",
    "\n",
    "tablero_del_jugador = generar_tablero(np.full((TAM_TABLERO, TAM_TABLERO), \" \"))\n",
    "tablero_de_maquina = generar_tablero(np.full((TAM_TABLERO, TAM_TABLERO), \" \"))\n",
    "tablero_interactivo=np.full((TAM_TABLERO, TAM_TABLERO), \" \")"
   ]
  },
  {
   "cell_type": "code",
   "execution_count": null,
   "metadata": {},
   "outputs": [],
   "source": [
    "#Este código se encarga de que la máquina dispare al tablero del jugador\n",
    "print(tablero_del_jugador)\n",
    "print(\" \")\n",
    "while True:\n",
    "    \"\"\"\n",
    "    Bucle que continua hasta que no se ejecute correctamente el disparo de la máquina\n",
    "    \"\"\"\n",
    "    #Creamos las filas y columnas en las que dispara aleatoriamente\n",
    "    fila=random.randint(0, 9) \n",
    "    columna=random.randint(0, 9)\n",
    "    coordenada_disparo=tablero_del_jugador[fila][columna]\n",
    "    #Defino la variable \"terminar\": tiene como objeto que si cambia a True significa que ha derrivado todos los objetivos\n",
    "    #Por lo que puede finalizar el juego\n",
    "    terminar=False\n",
    "\n",
    "    if (coordenada_disparo==agua_icon) or (coordenada_disparo==shoot_icon):\n",
    "        #Si dispara donde ya había disparado antes vuele a ejecutar el bucle\n",
    "        continue\n",
    "\n",
    "    elif coordenada_disparo==\" \":\n",
    "        #Si dispara donde hay un espacio \" \" cambialo por el símbolo de agua y sal del bucle\n",
    "        print(\"La máquina ha disparado en agua\")\n",
    "        tablero_del_jugador[fila][columna]=agua_icon\n",
    "        print(tablero_del_jugador)\n",
    "        break\n",
    "    else:\n",
    "        #Si dispara donde hay un barco cambia al icono del fuego y comprueba si siguen quedando más barcos en el tablero\n",
    "        print(\"La máquina ha disparado en un barco\")\n",
    "        tablero_del_jugador[fila][columna]=shoot_icon\n",
    "        print(tablero_del_jugador)\n",
    "        #DEFINIR COMO CAMBIA TERMINAR A FALSE PARA SALIR DE BUCLE\n",
    "    if terminar==True:\n",
    "        #Si el estado de terminar se vuelve True finaliza el bucle completamente: El juego ha finalizado\n",
    "        print(\"Terminado\")\n",
    "        break"
   ]
  }
 ],
 "metadata": {
  "kernelspec": {
   "display_name": "Python 3",
   "language": "python",
   "name": "python3"
  },
  "language_info": {
   "codemirror_mode": {
    "name": "ipython",
    "version": 3
   },
   "file_extension": ".py",
   "mimetype": "text/x-python",
   "name": "python",
   "nbconvert_exporter": "python",
   "pygments_lexer": "ipython3",
   "version": "3.7.4"
  },
  "orig_nbformat": 4
 },
 "nbformat": 4,
 "nbformat_minor": 2
}
