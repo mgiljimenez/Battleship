{
 "cells": [
  {
   "cell_type": "code",
   "execution_count": 7,
   "metadata": {},
   "outputs": [],
   "source": [
    "TAM_TABLERO = 10 # Tamaño del tablero\n",
    "TAM_BARCOS=[1,1,1,1,2,2,2,3,3,4]  #se define como una lista de los tamaños/ el número de barcos es el len(TAM_BARCOS)\n",
    "barco_icon = {1: \"🚣\", 2: \"🚢\", 3: \"🛳️\", 4: \"🚤\"}\n",
    "agua_icon= \"🌊\"\n",
    "shoot_icon=\"💥\""
   ]
  },
  {
   "cell_type": "code",
   "execution_count": 8,
   "metadata": {},
   "outputs": [],
   "source": [
    "import numpy\n",
    "import random\n",
    "from battleship_config import tablero, TAM_BARCOS,TAM_TABLERO,barco_icon,shoot_icon,agua_icon\n"
   ]
  },
  {
   "cell_type": "code",
   "execution_count": 9,
   "metadata": {},
   "outputs": [],
   "source": [
    "import numpy\n",
    "class tablero:\n",
    "    def __init__(self, TAM_BARCOS, TAM_TABLERO, barco_icon):\n",
    "        self.TAM_BARCOS=TAM_BARCOS\n",
    "        self.TAM_TABLERO=TAM_TABLERO\n",
    "        self.barco_icon=barco_icon\n",
    "    def generar_tablero(self, tablero_input):\n",
    "        self.tablero_input=tablero_input\n",
    "        barcos = []\n",
    "        for tam_barco in self.TAM_BARCOS:\n",
    "            colocado = False\n",
    "            while not colocado:\n",
    "                import numpy\n",
    "                fila, col = numpy.random.randint(self.TAM_TABLERO), numpy.random.randint(self.TAM_TABLERO)\n",
    "                direccion = numpy.random.choice(['arriba', 'abajo', 'izquierda', 'derecha'])\n",
    "                if direccion == 'arriba':\n",
    "                    posiciones = [(fila-i, col) for i in range(tam_barco)]\n",
    "                elif direccion == 'abajo':\n",
    "                    posiciones = [(fila+i, col) for i in range(tam_barco)]\n",
    "                elif direccion == 'izquierda':\n",
    "                    posiciones = [(fila, col-i) for i in range(tam_barco)]\n",
    "                else:\n",
    "                    posiciones = [(fila, col+i) for i in range(tam_barco)]\n",
    "                if all(0<=fila<self.TAM_TABLERO and 0<=col<self.TAM_TABLERO and tablero_input[fila, col]==\" \" for fila, col in posiciones):\n",
    "                    barco = {\"tam\": tam_barco, \"posiciones\": posiciones}\n",
    "                    barcos.append(barco)\n",
    "                    for fila, col in posiciones:\n",
    "                        tablero_input[fila, col] = self.barco_icon[tam_barco]\n",
    "                    colocado = True\n",
    "        return tablero_input\n",
    "    "
   ]
  },
  {
   "cell_type": "code",
   "execution_count": 10,
   "metadata": {},
   "outputs": [],
   "source": [
    "#Este es el código de Alba pasado a Clases\n",
    "tablero_del_jugador_inicializar=tablero(TAM_BARCOS,TAM_TABLERO, barco_icon)\n",
    "tablero_del_jugador=tablero_del_jugador_inicializar.generar_tablero(numpy.full((TAM_TABLERO, TAM_TABLERO), \" \"))\n",
    "\n",
    "tablero_maquina_inicializar=tablero(TAM_BARCOS,TAM_TABLERO, barco_icon)\n",
    "tablero_maquina=tablero_maquina_inicializar.generar_tablero(numpy.full((TAM_TABLERO, TAM_TABLERO), \" \"))\n",
    "\n",
    "tablero_interactivo=numpy.full((TAM_TABLERO, TAM_TABLERO), \" \")\n"
   ]
  },
  {
   "cell_type": "code",
   "execution_count": 16,
   "metadata": {},
   "outputs": [],
   "source": [
    "import pandas as pd\n",
    "\n",
    "class MostrarTablero:\n",
    "    \n",
    "    def __init__(self, tablero):\n",
    "        self.tablero = tablero\n",
    "       \n",
    "        \n",
    "    def mostrar(self):\n",
    "        def estilo_celda(valor):\n",
    "            if valor.strip() == \"\":\n",
    "                return \"background-color: lightgray\"\n",
    "            elif valor.isnumeric():\n",
    "                return \"background-color: lightblue\"\n",
    "            else:\n",
    "                return \"\"\n",
    "        \n",
    "        df_tablero = pd.DataFrame(self)\n",
    "        estilo = df_tablero.style.applymap(estilo_celda).set_properties(**{'font-size': '20px', 'text-align': 'center'})\n",
    "        \n",
    "        return(display(estilo))\n",
    "    \n"
   ]
  },
  {
   "cell_type": "code",
   "execution_count": null,
   "metadata": {},
   "outputs": [],
   "source": [
    "import pandas as pd\n",
    "\n",
    "class MostrarTablero:\n",
    "    \n",
    "    def __init__(self, tablero):\n",
    "        self.tablero = tablero\n",
    "       \n",
    "        \n",
    "    def mostrar(self):\n",
    "            if self.strip() == \"\":\n",
    "                return \"background-color: lightgray\"\n",
    "            elif self.isnumeric():\n",
    "                return \"background-color: lightblue\"\n",
    "            else:\n",
    "                return \"\"\n",
    "    \n",
    "        estilo = df_tablero.style.applymap(estilo_celda).set_properties(**{'font-size': '20px', 'text-align': 'center'})\n",
    "        \n",
    "        (display(estilo))\n",
    "    \n"
   ]
  },
  {
   "cell_type": "code",
   "execution_count": 20,
   "metadata": {},
   "outputs": [
    {
     "name": "stdout",
     "output_type": "stream",
     "text": [
      "<bound method MostrarTablero.mostrar of <__main__.MostrarTablero object at 0x00000193072453C8>>\n"
     ]
    }
   ],
   "source": [
    "tablero_del_jugador=MostrarTablero(tablero_del_jugador)\n",
    "print(tablero_del_jugador.mostrar)"
   ]
  }
 ],
 "metadata": {
  "kernelspec": {
   "display_name": "Python 3",
   "language": "python",
   "name": "python3"
  },
  "language_info": {
   "codemirror_mode": {
    "name": "ipython",
    "version": 3
   },
   "file_extension": ".py",
   "mimetype": "text/x-python",
   "name": "python",
   "nbconvert_exporter": "python",
   "pygments_lexer": "ipython3",
   "version": "3.7.4"
  },
  "orig_nbformat": 4
 },
 "nbformat": 4,
 "nbformat_minor": 2
}
