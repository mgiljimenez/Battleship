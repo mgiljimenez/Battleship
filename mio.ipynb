{
 "cells": [
  {
   "cell_type": "code",
   "execution_count": 5,
   "metadata": {},
   "outputs": [],
   "source": [
    "import random\n",
    "import numpy as np\n",
    "import pandas as np"
   ]
  },
  {
   "cell_type": "code",
   "execution_count": 4,
   "metadata": {},
   "outputs": [],
   "source": [
    "TAM_TABLERO=10\n",
    "TAM_BARCOS=[1,2,3,4]\n",
    "barco_icon=\"barco\"\n",
    "agua_icon=\"agua\"\n",
    "shoot_icon=\"shoot\"\n",
    "tablero_maquina=[[\"agua\",\" \",\"agua\",\" \",\" \",\" \",\"agua\",\" \",\" \",\" \"],\n",
    "                 [\" \",\" \",\" \",\" \",\" \",\" \",\" \",\" \",\" \",\" \"],\n",
    "                 [\" \",\"agua\",\" \",\"barco\",\" \",\" \",\" \",\" \",\" \",\" \"],\n",
    "                 [\" \",\" \",\" \",\" \",\" \",\" \",\" \",\" \",\"barco\",\" \"],\n",
    "                 [\" \",\" \",\"barco\",\" \",\" \",\" \",\" \",\" \",\" \",\" \"],\n",
    "                 [\" \",\" \",\" \",\" \",\" \",\" \",\"barco\",\" \",\" \",\" \"],\n",
    "                 [\" \",\" \",\" \",\" \",\" \",\" \",\" \",\" \",\" \",\" \"],\n",
    "                 [\" \",\" \",\" \",\" \",\" \",\" \",\" \",\" \",\" \",\" \"],\n",
    "                 [\" \",\" \",\" \",\" \",\" \",\" \",\" \",\" \",\" \",\" \"],\n",
    "                 [\" \",\" \",\" \",\" \",\"barco\",\" \",\" \",\" \",\" \",\" \"]]"
   ]
  },
  {
   "cell_type": "code",
   "execution_count": 2,
   "metadata": {},
   "outputs": [],
   "source": [
    "def validar_coordenadas(fila, columna):\n",
    "    if fila < 0 or fila > 9 or columna < 0 or columna > 9:\n",
    "        return False\n",
    "    else:\n",
    "        return True"
   ]
  },
  {
   "cell_type": "code",
   "execution_count": 6,
   "metadata": {},
   "outputs": [
    {
     "name": "stdout",
     "output_type": "stream",
     "text": [
      "¡Has fallado!\n",
      "[['agua', ' ', 'agua', ' ', ' ', ' ', 'agua', ' ', ' ', ' '], [' ', 'agua', ' ', ' ', ' ', ' ', ' ', ' ', ' ', ' '], [' ', 'agua', ' ', 'barco', ' ', ' ', ' ', ' ', ' ', ' '], [' ', ' ', ' ', ' ', ' ', ' ', ' ', ' ', 'barco', ' '], [' ', ' ', 'barco', ' ', ' ', ' ', ' ', ' ', ' ', ' '], [' ', ' ', ' ', ' ', ' ', ' ', 'barco', ' ', ' ', ' '], [' ', ' ', ' ', ' ', ' ', ' ', ' ', ' ', ' ', ' '], [' ', ' ', ' ', ' ', ' ', ' ', ' ', ' ', ' ', ' '], [' ', ' ', ' ', ' ', ' ', ' ', ' ', ' ', ' ', ' '], [' ', ' ', ' ', ' ', 'barco', ' ', ' ', ' ', ' ', ' ']]\n",
      "¡Has fallado!\n",
      "[['agua', 'agua', 'agua', ' ', ' ', ' ', 'agua', ' ', ' ', ' '], [' ', 'agua', ' ', ' ', ' ', ' ', ' ', ' ', ' ', ' '], [' ', 'agua', ' ', 'barco', ' ', ' ', ' ', ' ', ' ', ' '], [' ', ' ', ' ', ' ', ' ', ' ', ' ', ' ', 'barco', ' '], [' ', ' ', 'barco', ' ', ' ', ' ', ' ', ' ', ' ', ' '], [' ', ' ', ' ', ' ', ' ', ' ', 'barco', ' ', ' ', ' '], [' ', ' ', ' ', ' ', ' ', ' ', ' ', ' ', ' ', ' '], [' ', ' ', ' ', ' ', ' ', ' ', ' ', ' ', ' ', ' '], [' ', ' ', ' ', ' ', ' ', ' ', ' ', ' ', ' ', ' '], [' ', ' ', ' ', ' ', 'barco', ' ', ' ', ' ', ' ', ' ']]\n",
      "¡Has fallado!\n",
      "[['agua', 'agua', 'agua', ' ', ' ', ' ', 'agua', ' ', ' ', ' '], [' ', 'agua', ' ', ' ', ' ', ' ', ' ', ' ', ' ', ' '], [' ', 'agua', ' ', 'barco', ' ', ' ', ' ', ' ', ' ', ' '], [' ', ' ', ' ', ' ', ' ', ' ', ' ', ' ', 'barco', ' '], [' ', ' ', 'barco', ' ', ' ', ' ', ' ', ' ', ' ', ' '], [' ', ' ', ' ', ' ', ' ', ' ', 'barco', ' ', ' ', ' '], [' ', ' ', ' ', ' ', ' ', ' ', ' ', ' ', ' ', ' '], [' ', ' ', ' ', ' ', ' ', ' ', ' ', ' ', ' ', ' '], [' ', ' ', ' ', ' ', ' ', ' ', ' ', ' ', ' ', ' '], [' ', ' ', ' ', ' ', 'barco', ' ', ' ', ' ', ' ', ' ']]\n",
      "¡Has fallado!\n",
      "[['agua', 'agua', 'agua', ' ', ' ', ' ', 'agua', ' ', ' ', ' '], ['agua', 'agua', ' ', ' ', ' ', ' ', ' ', ' ', ' ', ' '], [' ', 'agua', ' ', 'barco', ' ', ' ', ' ', ' ', ' ', ' '], [' ', ' ', ' ', ' ', ' ', ' ', ' ', ' ', 'barco', ' '], [' ', ' ', 'barco', ' ', ' ', ' ', ' ', ' ', ' ', ' '], [' ', ' ', ' ', ' ', ' ', ' ', 'barco', ' ', ' ', ' '], [' ', ' ', ' ', ' ', ' ', ' ', ' ', ' ', ' ', ' '], [' ', ' ', ' ', ' ', ' ', ' ', ' ', ' ', ' ', ' '], [' ', ' ', ' ', ' ', ' ', ' ', ' ', ' ', ' ', ' '], [' ', ' ', ' ', ' ', 'barco', ' ', ' ', ' ', ' ', ' ']]\n",
      "¡Has fallado!\n",
      "[['agua', 'agua', 'agua', 'agua', ' ', ' ', 'agua', ' ', ' ', ' '], ['agua', 'agua', ' ', ' ', ' ', ' ', ' ', ' ', ' ', ' '], [' ', 'agua', ' ', 'barco', ' ', ' ', ' ', ' ', ' ', ' '], [' ', ' ', ' ', ' ', ' ', ' ', ' ', ' ', 'barco', ' '], [' ', ' ', 'barco', ' ', ' ', ' ', ' ', ' ', ' ', ' '], [' ', ' ', ' ', ' ', ' ', ' ', 'barco', ' ', ' ', ' '], [' ', ' ', ' ', ' ', ' ', ' ', ' ', ' ', ' ', ' '], [' ', ' ', ' ', ' ', ' ', ' ', ' ', ' ', ' ', ' '], [' ', ' ', ' ', ' ', ' ', ' ', ' ', ' ', ' ', ' '], [' ', ' ', ' ', ' ', 'barco', ' ', ' ', ' ', ' ', ' ']]\n"
     ]
    },
    {
     "ename": "ValueError",
     "evalue": "invalid literal for int() with base 10: ''",
     "output_type": "error",
     "traceback": [
      "\u001b[0;31m---------------------------------------------------------------------------\u001b[0m",
      "\u001b[0;31mValueError\u001b[0m                                Traceback (most recent call last)",
      "\u001b[0;32m/var/folders/qg/m4_qt3hj74bcbmfymy_4_5qr0000gq/T/ipykernel_10875/1121405059.py\u001b[0m in \u001b[0;36m<module>\u001b[0;34m\u001b[0m\n\u001b[1;32m      2\u001b[0m \u001b[0;32mwhile\u001b[0m \u001b[0;32mTrue\u001b[0m\u001b[0;34m:\u001b[0m\u001b[0;34m\u001b[0m\u001b[0;34m\u001b[0m\u001b[0m\n\u001b[1;32m      3\u001b[0m     \u001b[0mfila_jugador\u001b[0m \u001b[0;34m=\u001b[0m \u001b[0mint\u001b[0m\u001b[0;34m(\u001b[0m\u001b[0minput\u001b[0m\u001b[0;34m(\u001b[0m\u001b[0;34m\"Introduce la fila donde quieres disparar (0-9): \"\u001b[0m\u001b[0;34m)\u001b[0m\u001b[0;34m)\u001b[0m\u001b[0;34m\u001b[0m\u001b[0;34m\u001b[0m\u001b[0m\n\u001b[0;32m----> 4\u001b[0;31m     \u001b[0mcolumna_jugador\u001b[0m \u001b[0;34m=\u001b[0m \u001b[0mint\u001b[0m\u001b[0;34m(\u001b[0m\u001b[0minput\u001b[0m\u001b[0;34m(\u001b[0m\u001b[0;34m\"Introduce la columna donde quieres disparar (0-9): \"\u001b[0m\u001b[0;34m)\u001b[0m\u001b[0;34m)\u001b[0m\u001b[0;34m\u001b[0m\u001b[0;34m\u001b[0m\u001b[0m\n\u001b[0m\u001b[1;32m      5\u001b[0m     \u001b[0;32mif\u001b[0m \u001b[0;32mnot\u001b[0m \u001b[0mvalidar_coordenadas\u001b[0m\u001b[0;34m(\u001b[0m\u001b[0mfila_jugador\u001b[0m\u001b[0;34m,\u001b[0m \u001b[0mcolumna_jugador\u001b[0m\u001b[0;34m)\u001b[0m\u001b[0;34m:\u001b[0m\u001b[0;34m\u001b[0m\u001b[0;34m\u001b[0m\u001b[0m\n\u001b[1;32m      6\u001b[0m         \u001b[0mprint\u001b[0m\u001b[0;34m(\u001b[0m\u001b[0;34m\"Coordenadas no válidas, introduce de nuevo\"\u001b[0m\u001b[0;34m)\u001b[0m\u001b[0;34m\u001b[0m\u001b[0;34m\u001b[0m\u001b[0m\n",
      "\u001b[0;31mValueError\u001b[0m: invalid literal for int() with base 10: ''"
     ]
    }
   ],
   "source": [
    "# Bucle para pedir coordenadas al jugador\n",
    "while True:\n",
    "    fila_jugador = int(input(\"Introduce la fila donde quieres disparar (0-9): \"))\n",
    "    columna_jugador = int(input(\"Introduce la columna donde quieres disparar (0-9): \"))\n",
    "    if not validar_coordenadas(fila_jugador, columna_jugador):\n",
    "        print(\"Coordenadas no válidas, introduce de nuevo\")\n",
    "        continue\n",
    "    else:\n",
    "        pass\n",
    "\n",
    "# Comprobar el disparo del jugador\n",
    "\n",
    "    coordenada_disparo_jugador = tablero_maquina[fila_jugador][columna_jugador]\n",
    "    if coordenada_disparo_jugador == barco_icon:\n",
    "        print(\"¡Has acertado!\")\n",
    "        tablero_maquina[fila_jugador][columna_jugador] = shoot_icon\n",
    "        print(tablero_maquina)\n",
    "        for fila in tablero_maquina:\n",
    "            if \"barco\" not in fila:\n",
    "                print(\"¡Has ganado!\")\n",
    "                terminar=True\n",
    "            else:\n",
    "                pass\n",
    "                if terminar==True:\n",
    "                    break\n",
    "    else:\n",
    "        print(\"¡Has fallado!\")\n",
    "    tablero_maquina[fila_jugador][columna_jugador] = agua_icon\n",
    "    print(tablero_maquina)\n"
   ]
  }
 ],
 "metadata": {
  "kernelspec": {
   "display_name": "Python 3",
   "language": "python",
   "name": "python3"
  },
  "language_info": {
   "codemirror_mode": {
    "name": "ipython",
    "version": 3
   },
   "file_extension": ".py",
   "mimetype": "text/x-python",
   "name": "python",
   "nbconvert_exporter": "python",
   "pygments_lexer": "ipython3",
   "version": "3.7.4"
  },
  "orig_nbformat": 4
 },
 "nbformat": 4,
 "nbformat_minor": 2
}
