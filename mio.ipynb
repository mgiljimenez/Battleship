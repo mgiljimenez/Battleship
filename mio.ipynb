{
 "cells": [
  {
   "cell_type": "code",
   "execution_count": 5,
   "metadata": {},
   "outputs": [],
   "source": [
    "import random\n",
    "import numpy as np\n",
    "import pandas as np"
   ]
  },
  {
   "cell_type": "code",
   "execution_count": 6,
   "metadata": {},
   "outputs": [],
   "source": [
    "TAM_TABLERO=10\n",
    "TAM_BARCOS=[1,2,3,4]\n",
    "barco_icon=\"barco\"\n",
    "agua_icon=\"agua\"\n",
    "shoot_icon=\"shoot\"\n",
    "tablero_maquina=[[\"agua\",\" \",\"agua\",\" \",\" \",\" \",\"agua\",\" \",\" \",\" \"],\n",
    "                 [\" \",\" \",\" \",\" \",\" \",\" \",\" \",\" \",\" \",\" \"],\n",
    "                 [\" \",\"agua\",\" \",\"barco\",\" \",\" \",\" \",\" \",\" \",\" \"],\n",
    "                 [\" \",\" \",\" \",\" \",\" \",\" \",\" \",\" \",\"barco\",\" \"],\n",
    "                 [\" \",\" \",\"barco\",\" \",\" \",\" \",\" \",\" \",\" \",\" \"],\n",
    "                 [\" \",\" \",\" \",\" \",\" \",\" \",\"barco\",\" \",\" \",\" \"],\n",
    "                 [\" \",\" \",\" \",\" \",\" \",\" \",\" \",\" \",\" \",\" \"],\n",
    "                 [\" \",\" \",\" \",\" \",\" \",\" \",\" \",\" \",\" \",\" \"],\n",
    "                 [\" \",\" \",\" \",\" \",\" \",\" \",\" \",\" \",\" \",\" \"],\n",
    "                 [\" \",\" \",\" \",\" \",\"barco\",\" \",\" \",\" \",\" \",\" \"]]"
   ]
  },
  {
   "cell_type": "code",
   "execution_count": 10,
   "metadata": {},
   "outputs": [],
   "source": [
    "def validar_coordenadas(fila, columna):\n",
    "    if fila < 0 or fila > 9 or columna < 0 or columna > 9:\n",
    "        return False\n",
    "    else:\n",
    "        return True"
   ]
  },
  {
   "cell_type": "code",
   "execution_count": 11,
   "metadata": {},
   "outputs": [
    {
     "name": "stdout",
     "output_type": "stream",
     "text": [
      "La máquina ha disparado en agua\n",
      "[['agua', ' ', 'agua', ' ', ' ', ' ', 'agua', ' ', ' ', ' '], [' ', ' ', ' ', 'agua', ' ', ' ', ' ', ' ', ' ', ' '], [' ', 'agua', ' ', 'barco', ' ', ' ', ' ', ' ', ' ', ' '], [' ', ' ', ' ', ' ', ' ', ' ', ' ', ' ', 'barco', ' '], [' ', ' ', 'barco', ' ', ' ', ' ', ' ', ' ', ' ', ' '], [' ', ' ', ' ', ' ', ' ', ' ', 'barco', ' ', ' ', ' '], [' ', ' ', ' ', ' ', ' ', ' ', ' ', ' ', ' ', ' '], ['agua', ' ', ' ', ' ', ' ', ' ', ' ', ' ', ' ', ' '], [' ', ' ', ' ', ' ', ' ', ' ', ' ', ' ', ' ', ' '], [' ', ' ', ' ', ' ', 'barco', ' ', ' ', ' ', ' ', ' ']]\n"
     ]
    }
   ],
   "source": [
    "while True:\n",
    "    fila=random.randint(0, 9)\n",
    "    columna=random.randint(0, 9)\n",
    "    coordenada_disparo=tablero_maquina[fila][columna]\n",
    "    terminar=False\n",
    "    if coordenada_disparo==barco_icon:\n",
    "        print(\"La máquina ha disparado en un barco\")\n",
    "        tablero_maquina[fila][columna]=shoot_icon\n",
    "        print(tablero_maquina)\n",
    "        for fila in tablero_maquina:\n",
    "            if \"barco\" not in fila:\n",
    "                terminar=True\n",
    "            else:\n",
    "                pass\n",
    "        if terminar==True:\n",
    "            break\n",
    "    elif (coordenada_disparo==agua_icon) or (coordenada_disparo==shoot_icon):\n",
    "        continue\n",
    "    elif coordenada_disparo==\" \":\n",
    "        print(\"La máquina ha disparado en agua\")\n",
    "        tablero_maquina[fila][columna]=agua_icon\n",
    "        print(tablero_maquina)\n",
    "        break\n",
    "    if terminar==True:\n",
    "        print(\"Terminado\")\n",
    "        break\n",
    "\n",
    "\n",
    "\n",
    "\n",
    "\n",
    "\n",
    "\n"
   ]
  },
  {
   "cell_type": "code",
   "execution_count": 12,
   "metadata": {},
   "outputs": [
    {
     "name": "stdout",
     "output_type": "stream",
     "text": [
      "¡Has fallado!\n",
      "[['agua', ' ', 'agua', ' ', ' ', ' ', 'agua', ' ', ' ', ' '], [' ', ' ', ' ', 'agua', ' ', ' ', ' ', ' ', ' ', ' '], [' ', 'agua', ' ', 'barco', ' ', ' ', ' ', ' ', ' ', ' '], [' ', ' ', ' ', ' ', ' ', ' ', ' ', ' ', 'barco', ' '], [' ', ' ', 'barco', 'agua', ' ', ' ', ' ', ' ', ' ', ' '], [' ', ' ', ' ', ' ', ' ', ' ', 'barco', ' ', ' ', ' '], [' ', ' ', ' ', ' ', ' ', ' ', ' ', ' ', ' ', ' '], ['agua', ' ', ' ', ' ', ' ', ' ', ' ', ' ', ' ', ' '], [' ', ' ', ' ', ' ', ' ', ' ', ' ', ' ', ' ', ' '], [' ', ' ', ' ', ' ', 'barco', ' ', ' ', ' ', ' ', ' ']]\n"
     ]
    }
   ],
   "source": [
    "# Bucle para pedir coordenadas al jugador\n",
    "while True:\n",
    "    fila_jugador = int(input(\"Introduce la fila donde quieres disparar (0-9): \"))\n",
    "    columna_jugador = int(input(\"Introduce la columna donde quieres disparar (0-9): \"))\n",
    "    if not validar_coordenadas(fila_jugador, columna_jugador):\n",
    "        print(\"Coordenadas no válidas, introduce de nuevo\")\n",
    "        continue\n",
    "    else:\n",
    "        break\n",
    "\n",
    "# Comprobar el disparo del jugador\n",
    "while True:\n",
    "    coordenada_disparo_jugador = tablero_maquina[fila_jugador][columna_jugador]\n",
    "    if coordenada_disparo_jugador == barco_icon:\n",
    "\n",
    "        print(\"¡Has acertado!\")\n",
    "        tablero_maquina[fila_jugador][columna_jugador] = shoot_icon\n",
    "        print(tablero_maquina)\n",
    "        for fila in tablero_maquina:\n",
    "            if \"barco\" not in fila:\n",
    "                print(\"¡Has ganado!\")\n",
    "                terminar=True\n",
    "            else:\n",
    "                pass\n",
    "                if terminar==True:\n",
    "                    break\n",
    "    else:\n",
    "        print(\"¡Has fallado!\")\n",
    "    tablero_maquina[fila_jugador][columna_jugador] = agua_icon\n",
    "    print(tablero_maquina)\n"
   ]
  }
 ],
 "metadata": {
  "kernelspec": {
   "display_name": "Python 3",
   "language": "python",
   "name": "python3"
  },
  "language_info": {
   "codemirror_mode": {
    "name": "ipython",
    "version": 3
   },
   "file_extension": ".py",
   "mimetype": "text/x-python",
   "name": "python",
   "nbconvert_exporter": "python",
   "pygments_lexer": "ipython3",
   "version": "3.7.4"
  },
  "orig_nbformat": 4
 },
 "nbformat": 4,
 "nbformat_minor": 2
}
