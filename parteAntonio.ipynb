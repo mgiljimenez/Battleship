{
 "cells": [
  {
   "cell_type": "code",
   "execution_count": 2,
   "metadata": {},
   "outputs": [
    {
     "ename": "NameError",
     "evalue": "name 'tablero_de_maquina' is not defined",
     "output_type": "error",
     "traceback": [
      "\u001b[1;31m---------------------------------------------------------------------------\u001b[0m",
      "\u001b[1;31mNameError\u001b[0m                                 Traceback (most recent call last)",
      "\u001b[1;32m~\\AppData\\Local\\Temp\\ipykernel_29968\\1773116721.py\u001b[0m in \u001b[0;36m<module>\u001b[1;34m\u001b[0m\n\u001b[0;32m     12\u001b[0m         \u001b[1;32mcontinue\u001b[0m\u001b[1;33m\u001b[0m\u001b[1;33m\u001b[0m\u001b[0m\n\u001b[0;32m     13\u001b[0m \u001b[1;33m\u001b[0m\u001b[0m\n\u001b[1;32m---> 14\u001b[1;33m     \u001b[0mdisparo_a_maquina\u001b[0m \u001b[1;33m=\u001b[0m \u001b[0mtablero_de_maquina\u001b[0m\u001b[1;33m[\u001b[0m\u001b[0mfila\u001b[0m\u001b[1;33m]\u001b[0m\u001b[1;33m[\u001b[0m\u001b[0mcol\u001b[0m\u001b[1;33m]\u001b[0m\u001b[1;33m\u001b[0m\u001b[1;33m\u001b[0m\u001b[0m\n\u001b[0m\u001b[0;32m     15\u001b[0m \u001b[1;33m\u001b[0m\u001b[0m\n\u001b[0;32m     16\u001b[0m     \u001b[1;32mif\u001b[0m \u001b[1;33m(\u001b[0m\u001b[0mdisparo_a_maquina\u001b[0m\u001b[1;33m==\u001b[0m\u001b[0magua_icon\u001b[0m\u001b[1;33m)\u001b[0m \u001b[1;32mor\u001b[0m \u001b[1;33m(\u001b[0m\u001b[0mdisparo_a_maquina\u001b[0m\u001b[1;33m==\u001b[0m\u001b[0mshoot_icon\u001b[0m\u001b[1;33m)\u001b[0m\u001b[1;33m:\u001b[0m\u001b[1;33m\u001b[0m\u001b[1;33m\u001b[0m\u001b[0m\n",
      "\u001b[1;31mNameError\u001b[0m: name 'tablero_de_maquina' is not defined"
     ]
    }
   ],
   "source": [
    "while True:\n",
    "    try:\n",
    "        fila = int(input(\"Ingrese la fila (número entre 0 y {}): \".format(TAM_TABLERO-1)))\n",
    "        col = int(input(\"Ingrese la columna (número entre 0 y {}): \".format(TAM_TABLERO-1)))\n",
    "        if (fila < 0 or fila >=(TAM_TABLERO -1)) or (col < 0 or col >= (TAM_TABLERO - 1)):\n",
    "            print(\"Coordenadas fuera de rango. Inténtelo nuevamente\")\n",
    "            continue\n",
    "        else:\n",
    "            pass #si las coordenadas son válidas la función devuelve una tupla con las coordenadas (fila, col)\n",
    "    except ValueError:\n",
    "        print(\"Inténtelo nuevamente\")\n",
    "        continue\n",
    "    \n",
    "    disparo_a_maquina = tablero_de_maquina[fila][col]\n",
    "    \n",
    "    if (disparo_a_maquina==agua_icon) or (disparo_a_maquina==shoot_icon):\n",
    "        print(\"Ya has disparado aquí. Vuelve a tirar\")\n",
    "        continue\n",
    "    elif disparo_a_maquina == \" \":\n",
    "        print(\"¡La máquina ha disparado en agua!\")\n",
    "        tablero_de_maquina[fila][col] = agua_icon\n",
    "        tablero_interactivo[fila][col] = agua_icon\n",
    "        print(tablero_de_maquina)\n",
    "        print(tablero_interactivo)\n",
    "        break\n",
    "    \n",
    "    else:\n",
    "        print(\"¡Has disparado en un barco\")\n",
    "        tablero_de_maquina[fila][col] = shoot_icon\n",
    "        tablero_interactivo[fila][col] = shoot_icon\n",
    "        print(tablero_de_maquina)\n",
    "        print(tablero_interactivo)\n",
    "        break\n",
    "    \n",
    "        \n",
    "            \n",
    "     \n",
    "    "
   ]
  }
 ],
 "metadata": {
  "kernelspec": {
   "display_name": "Python 3",
   "language": "python",
   "name": "python3"
  },
  "language_info": {
   "codemirror_mode": {
    "name": "ipython",
    "version": 3
   },
   "file_extension": ".py",
   "mimetype": "text/x-python",
   "name": "python",
   "nbconvert_exporter": "python",
   "pygments_lexer": "ipython3",
   "version": "3.7.4"
  },
  "orig_nbformat": 4
 },
 "nbformat": 4,
 "nbformat_minor": 2
}
