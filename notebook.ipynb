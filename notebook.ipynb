{
 "cells": [
  {
   "attachments": {},
   "cell_type": "markdown",
   "metadata": {},
   "source": [
    "Mostramos el tablero del jugador con los barcos ya colocados"
   ]
  },
  {
   "cell_type": "code",
   "execution_count": 14,
   "metadata": {},
   "outputs": [
    {
     "name": "stdout",
     "output_type": "stream",
     "text": [
      "[[' ' ' ' ' ' '🚣' ' ' ' ' ' ' '🛳' '🛳' '🛳']\n",
      " [' ' ' ' ' ' '🚢' '🚢' ' ' ' ' ' ' ' ' ' ']\n",
      " [' ' ' ' ' ' ' ' ' ' ' ' ' ' '🚢' ' ' ' ']\n",
      " [' ' ' ' '🚢' '🚢' ' ' ' ' ' ' '🚢' ' ' ' ']\n",
      " [' ' '🚤' ' ' ' ' ' ' ' ' ' ' ' ' ' ' ' ']\n",
      " [' ' '🚤' ' ' ' ' ' ' ' ' ' ' ' ' ' ' ' ']\n",
      " [' ' '🚤' ' ' ' ' ' ' ' ' '🚣' ' ' ' ' ' ']\n",
      " ['🚣' '🚤' ' ' ' ' ' ' ' ' ' ' ' ' ' ' ' ']\n",
      " [' ' ' ' '🛳' '🛳' '🛳' ' ' ' ' ' ' ' ' ' ']\n",
      " [' ' '🚣' ' ' ' ' ' ' ' ' ' ' ' ' ' ' ' ']]\n",
      "\n",
      "[[' ' ' ' ' ' '🚣' ' ' ' ' ' ' ' ' ' ' ' ']\n",
      " [' ' '🚤' '🚤' '🚤' '🚤' ' ' ' ' ' ' ' ' ' ']\n",
      " [' ' ' ' ' ' ' ' ' ' ' ' ' ' ' ' ' ' ' ']\n",
      " [' ' ' ' ' ' ' ' ' ' ' ' ' ' ' ' ' ' ' ']\n",
      " [' ' '🚢' '🚢' ' ' ' ' ' ' ' ' ' ' '🚢' '🚢']\n",
      " [' ' ' ' ' ' ' ' ' ' ' ' ' ' ' ' ' ' ' ']\n",
      " ['🛳' ' ' ' ' ' ' ' ' ' ' ' ' '🚢' ' ' ' ']\n",
      " ['🛳' ' ' ' ' ' ' ' ' ' ' ' ' '🚢' ' ' ' ']\n",
      " ['🛳' ' ' ' ' '🚣' ' ' ' ' ' ' '🛳' '🛳' '🛳']\n",
      " ['🚣' ' ' '🚣' ' ' ' ' ' ' ' ' ' ' ' ' ' ']]\n"
     ]
    }
   ],
   "source": [
    "import numpy as np\n",
    "\n",
    "TAM_TABLERO = 10\n",
    "TAM_BARCOS = [1, 1, 1, 1, 2, 2, 2, 3, 3, 4]\n",
    "EMOJIS = {1: \"🚣\", 2: \"🚢\", 3: \"🛳️\", 4: \"🚤\"}\n",
    "\n",
    "\n",
    "\n",
    "def generar_tablero(tablero_input):\n",
    "    '''\n",
    "    Esta función es la encargada de generar los tableros y de posicionar los barcos en ellos.\n",
    "    '''\n",
    "    # Diccionario que relaciona un número entero (que representa el tamaño de un barco) con un emoji correspondiente\n",
    "    barcos = []\n",
    "    for tam_barco in TAM_BARCOS:\n",
    "        colocado = False\n",
    "        while not colocado:\n",
    "            fila, col = np.random.randint(TAM_TABLERO), np.random.randint(TAM_TABLERO)\n",
    "            direccion = np.random.choice(['arriba', 'abajo', 'izquierda', 'derecha'])\n",
    "            if direccion == 'arriba':\n",
    "                posiciones = [(fila-i, col) for i in range(tam_barco)]\n",
    "            elif direccion == 'abajo':\n",
    "                posiciones = [(fila+i, col) for i in range(tam_barco)]\n",
    "            elif direccion == 'izquierda':\n",
    "                posiciones = [(fila, col-i) for i in range(tam_barco)]\n",
    "            else:\n",
    "                posiciones = [(fila, col+i) for i in range(tam_barco)]\n",
    "            if all(0<=fila<TAM_TABLERO and 0<=col<TAM_TABLERO and tablero_input[fila, col]==\" \" for fila, col in posiciones):\n",
    "                barco = {\"tam\": tam_barco, \"posiciones\": posiciones}\n",
    "                barcos.append(barco)\n",
    "                for fila, col in posiciones:\n",
    "                    tablero_input[fila, col] = EMOJIS[tam_barco]\n",
    "                colocado = True\n",
    "    \n",
    "    return tablero_input\n",
    "\n",
    "tablero_jugador = generar_tablero(np.full((TAM_TABLERO, TAM_TABLERO), \" \"))\n",
    "tablero_maquina = generar_tablero(np.full((TAM_TABLERO, TAM_TABLERO), \" \"))\n",
    "\n",
    "print(tablero_jugador)\n",
    "print()\n",
    "print(tablero_maquina)\n"
   ]
  }
 ],
 "metadata": {
  "kernelspec": {
   "display_name": "Python 3",
   "language": "python",
   "name": "python3"
  },
  "language_info": {
   "codemirror_mode": {
    "name": "ipython",
    "version": 3
   },
   "file_extension": ".py",
   "mimetype": "text/x-python",
   "name": "python",
   "nbconvert_exporter": "python",
   "pygments_lexer": "ipython3",
   "version": "3.7.4"
  },
  "orig_nbformat": 4
 },
 "nbformat": 4,
 "nbformat_minor": 2
}
